{
 "cells": [
  {
   "cell_type": "code",
   "execution_count": null,
   "id": "696b7baa-3b22-4ba0-aad8-178cf3f7e226",
   "metadata": {},
   "outputs": [],
   "source": [
    "Q1) What is the primary goal of Object-Oriented Programming (OOP)?"
   ]
  },
  {
   "cell_type": "code",
   "execution_count": null,
   "id": "6201db31-689d-4c4f-9f7c-41a96a37623b",
   "metadata": {},
   "outputs": [],
   "source": [
    "The primary goal of Object-Oriented Programming (OOP) is to design software in a way that mirrors the real-world entities and their interactions. OOP is based on the following key principles:\n",
    "\n",
    "Encapsulation:\n",
    "Encapsulation involves bundling the data (attributes) and the methods (functions) that operate on the data into a single unit called a class. This class serves as a blueprint for creating objects. Encapsulation helps in hiding the internal details of an object and exposing only what is necessary.\n",
    "Abstraction:\n",
    "Abstraction involves simplifying complex systems by modeling classes based on the essential properties and behaviors they share. It allows programmers to focus on the relevant details of an object while ignoring the irrelevant complexities. Abstraction is implemented through abstract classes and interfaces.\n",
    "Inheritance:\n",
    "Inheritance is a mechanism that allows a new class (subclass or derived class) to inherit the properties and behaviors of an existing class (superclass or base class). This promotes code reuse, and it enables the creation of a hierarchy of classes with shared characteristics.\n",
    "Polymorphism:\n",
    "Polymorphism allows objects of different classes to be treated as objects of a common base class. It enables a single interface to represent different types of objects. Polymorphism is achieved through method overloading and method overriding.\n",
    "The overall goal of OOP is to provide a modular and organized way of designing software systems. By modeling software entities as objects with well-defined behaviors and interactions, OOP helps improve code readability, maintainability, and scalability. It promotes concepts like reusability, flexibility, and extensibility, making it easier to develop and maintain complex software systems."
   ]
  },
  {
   "cell_type": "code",
   "execution_count": null,
   "id": "0c1dc160-fda4-48b3-acbc-ec2f6c362aca",
   "metadata": {},
   "outputs": [],
   "source": [
    "Q2) What is an object in Python?"
   ]
  },
  {
   "cell_type": "code",
   "execution_count": null,
   "id": "116dfb75-a0a8-4ae6-871f-8f92f6558871",
   "metadata": {},
   "outputs": [],
   "source": [
    "In Python, an object is a fundamental concept representing a real-world entity or data structure within the context of object-oriented programming (OOP). Everything in Python is an object, and objects are instances of classes.\n"
   ]
  },
  {
   "cell_type": "code",
   "execution_count": null,
   "id": "33a02f35-b7f0-4f81-adf9-dd8226b5b00a",
   "metadata": {},
   "outputs": [],
   "source": [
    "Q3) What is a class in Python?"
   ]
  },
  {
   "cell_type": "code",
   "execution_count": null,
   "id": "6dddfec7-30d2-40df-a46f-8436c4dd463f",
   "metadata": {},
   "outputs": [],
   "source": [
    "In Python, a class is a blueprint or template for creating objects. It is a way to structure and organize code in an object-oriented programming (OOP) paradigm. A class defines attributes (data) and methods (functions) that operate on the data. Objects are instances of classes.\n",
    "\n",
    "Here are key concepts related to classes in Python:\n",
    "\n",
    "Attributes:\n",
    "Attributes are variables that store data. They represent the characteristics or properties of objects created from the class.\n",
    "Methods:\n",
    "Methods are functions defined within a class. They perform operations on the data (attributes) of the class. Methods are called on objects to manipulate their state or behavior.\n",
    "Constructor (__init__ method):\n",
    "The __init__ method is a special method in Python classes. It is called when an object is created from the class and is used to initialize the object's attributes.\n",
    "Self:\n",
    "The first parameter in every method of a class is self. It represents the instance of the class and is used to access the class's attributes and methods within the class."
   ]
  },
  {
   "cell_type": "code",
   "execution_count": null,
   "id": "b66aabee-e8a2-4d87-803b-744ca2a623ab",
   "metadata": {},
   "outputs": [],
   "source": [
    "Q4) What are attributes and methods in a class?"
   ]
  },
  {
   "cell_type": "code",
   "execution_count": null,
   "id": "0d285b2a-7a27-49d2-83bb-2076d6e24a26",
   "metadata": {},
   "outputs": [],
   "source": [
    "In a class, attributes and methods are key components that define the structure and behavior of objects created from that class. Let's break down the concepts:\n",
    "\n",
    "Atributes: Attributes are variables that store data within a class. They represent the characteristics or properties of objects instantiated from the class.\n",
    "Methods: Methods are functions defined within a class. They perform operations on the data (attributes) of the class or provide specific functionality related to the class."
   ]
  },
  {
   "cell_type": "code",
   "execution_count": null,
   "id": "bdb9bb29-fc5d-4f7e-bce5-3c4373009739",
   "metadata": {},
   "outputs": [],
   "source": [
    "Q5) What is the difference between class variables and instance variables in Python?"
   ]
  },
  {
   "cell_type": "code",
   "execution_count": null,
   "id": "3473f4b8-1287-43f9-b69d-9121771b1ade",
   "metadata": {},
   "outputs": [],
   "source": [
    "Class Variable\n",
    "Definition: Class variables are variables that are shared by all instances (objects) of a class. They are defined within the class but outside of any methods.\n",
    "Scope: The scope of a class variable is at the class level, meaning it is accessible to all instances of the class.\n",
    "Modification: When the value of a class variable is modified, the change is reflected in all instances of the class.\n",
    "\n",
    "INstance Variables:\n",
    "Definition: Instance variables are variables that are unique to each instance of a class. They are defined within the class but inside the methods, usually within the __init__ method.\n",
    "Scope: The scope of an instance variable is limited to the instance to which it belongs.\n",
    "Modification: Changes to instance variables affect only the specific instance to which the variable belongs."
   ]
  },
  {
   "cell_type": "code",
   "execution_count": null,
   "id": "1319ffbb-e614-4ca5-bb61-7b76325e3d07",
   "metadata": {},
   "outputs": [],
   "source": [
    "Q6) What is the purpose of the self parameter in Python class methods?"
   ]
  },
  {
   "cell_type": "code",
   "execution_count": null,
   "id": "bd0040f6-128d-45a9-8d7f-48710e4128be",
   "metadata": {},
   "outputs": [],
   "source": [
    "self parameter in class methods is a convention used to refer to the instance of the class. It is the first parameter of every instance method in a class. While you could technically name it anything you like, it is recommended to use self to maintain clarity and consistency across Python codebases. The use of self serves several purposes:\n",
    "\n",
    "Instance Reference:\n",
    "self is used as a reference to the instance of the class. It allows you to access and modify the attributes and call other methods of the same instance within the class.\n",
    "Attribute Access:\n",
    "When you want to access or modify instance variables (attributes) within a method, you use self to refer to those attributes. This helps distinguish between local variables and instance variables.\n",
    "Method Invocation:\n",
    "self is used to call other methods of the same instance. For example, if a method method1 needs to call another method method2 of the same instance, it would be done using self.method2().\n",
    "Creating and Modifying Attributes:\n",
    "When initializing or modifying attributes in the constructor (__init__ method) or other methods, you use self to refer to the instance being created or modified."
   ]
  },
  {
   "cell_type": "code",
   "execution_count": null,
   "id": "b0cc4791-2893-4139-8247-c8394a58f440",
   "metadata": {},
   "outputs": [],
   "source": [
    "Q7) For a library management system, you have to design the \"Book\" class with OOP\n",
    "principles in mind. The “Book” class will have following attributes:\n",
    "a. title: Represents the title of the book.\n",
    "b. author: Represents the author(s) of the book.\n",
    "c. isbn: Represents the ISBN (International Standard Book Number) of the book.\n",
    "d. publication_year: Represents the year of publication of the book.\n",
    "e. available_copies: Represents the number of copies available for checkout.\n",
    "The class will also include the following methods:\n",
    "a. check_out(self): Decrements the available copies by one if there are copies\n",
    "available for checkout.\n",
    "b. return_book(self): Increments the available copies by one when a book is\n",
    "returned.\n",
    "c. display_book_info(self): Displays the information about the book, including its\n",
    "attributes and the number of available copies."
   ]
  },
  {
   "cell_type": "code",
   "execution_count": 1,
   "id": "10deebb6-7d9f-4d65-ab7f-28339ad145d5",
   "metadata": {},
   "outputs": [
    {
     "name": "stdout",
     "output_type": "stream",
     "text": [
      "Book 'The Hero' checked out successfully.\n",
      "Book Information:\n",
      "Title: The Hero\n",
      "Author: Abhishek\n",
      "ISBN: 007\n",
      "Publication Year: 1992\n",
      "Total Copies: 100\n",
      "Available Copies: 99\n",
      "Book 'The Hero' returned successfully.\n",
      "Book Information:\n",
      "Title: The Hero\n",
      "Author: Abhishek\n",
      "ISBN: 007\n",
      "Publication Year: 1992\n",
      "Total Copies: 100\n",
      "Available Copies: 100\n"
     ]
    }
   ],
   "source": [
    "class Book:\n",
    "    def __init__(self, title, author, isbn, publication_year, total_copies):\n",
    "        self.title = title\n",
    "        self.author = author\n",
    "        self.isbn = isbn\n",
    "        self.publication_year = publication_year\n",
    "        self.total_copies = total_copies\n",
    "        self.available_copies = total_copies  \n",
    "\n",
    "    def check_out(self):\n",
    "        if self.available_copies > 0:\n",
    "            self.available_copies -= 1\n",
    "            print(f\"Book '{self.title}' checked out successfully.\")\n",
    "        else:\n",
    "            print(\"Sorry, no copies available for checkout.\")\n",
    "\n",
    "    def return_book(self):\n",
    "        if self.available_copies < self.total_copies:\n",
    "            self.available_copies += 1\n",
    "            print(f\"Book '{self.title}' returned successfully.\")\n",
    "        else:\n",
    "            print(\"All copies are already available. Cannot return more.\")\n",
    "\n",
    "    def display_book_info(self):\n",
    "        print(f\"Book Information:\")\n",
    "        print(f\"Title: {self.title}\")\n",
    "        print(f\"Author: {self.author}\")\n",
    "        print(f\"ISBN: {self.isbn}\")\n",
    "        print(f\"Publication Year: {self.publication_year}\")\n",
    "        print(f\"Total Copies: {self.total_copies}\")\n",
    "        print(f\"Available Copies: {self.available_copies}\")\n",
    "\n",
    "\n",
    "book1 = Book(\"The Hero\", \"Abhishek\", \"007\", 1992, 100)\n",
    "\n",
    "book1.check_out()\n",
    "book1.display_book_info()\n",
    "\n",
    "book1.return_book()\n",
    "book1.display_book_info()\n"
   ]
  },
  {
   "cell_type": "code",
   "execution_count": null,
   "id": "221161b9-b579-497b-8075-273c48ca2f01",
   "metadata": {},
   "outputs": [],
   "source": [
    "Q8) For a ticket booking system, you have to design the \"Ticket\" class with OOP\n",
    "principles in mind. The “Ticket” class should have the following attributes:\n",
    "a. ticket_id: Represents the unique identifier for the ticket.\n",
    "b. event_name: Represents the name of the event.\n",
    "c. event_date: Represents the date of the event.\n",
    "d. venue: Represents the venue of the event.\n",
    "e. seat_number: Represents the seat number associated with the ticket.\n",
    "f. price: Represents the price of the ticket.\n",
    "g. is_reserved: Represents the reservation status of the ticket.\n",
    "The class also includes the following methods:\n",
    "a. reserve_ticket(self): Marks the ticket as reserved if it is not already reserved.\n",
    "b. cancel_reservation(self): Cancels the reservation of the ticket if it is already\n",
    "reserved.\n",
    "c. display_ticket_info(self): Displays the information about the ticket, including its\n",
    "attributes and reservation status."
   ]
  },
  {
   "cell_type": "code",
   "execution_count": 2,
   "id": "1f005316-aace-499f-a329-7ab8ac98c8c0",
   "metadata": {},
   "outputs": [
    {
     "name": "stdout",
     "output_type": "stream",
     "text": [
      "Ticket 101 reserved successfully.\n",
      "Ticket Information:\n",
      "Ticket ID: 101\n",
      "Event Name: Concert\n",
      "Event Date: 2023-12-01\n",
      "Venue: City Arena\n",
      "Seat Number: A101\n",
      "Price: $50.0\n",
      "Reservation Status: Reserved\n",
      "Reservation for Ticket 101 canceled.\n",
      "Ticket Information:\n",
      "Ticket ID: 101\n",
      "Event Name: Concert\n",
      "Event Date: 2023-12-01\n",
      "Venue: City Arena\n",
      "Seat Number: A101\n",
      "Price: $50.0\n",
      "Reservation Status: Not Reserved\n"
     ]
    }
   ],
   "source": [
    "class Ticket:\n",
    "    def __init__(self, ticket_id, event_name, event_date, venue, seat_number, price):\n",
    "        self.ticket_id = ticket_id\n",
    "        self.event_name = event_name\n",
    "        self.event_date = event_date\n",
    "        self.venue = venue\n",
    "        self.seat_number = seat_number\n",
    "        self.price = price\n",
    "        self.is_reserved = False \n",
    "\n",
    "    def reserve_ticket(self):\n",
    "        if not self.is_reserved:\n",
    "            self.is_reserved = True\n",
    "            print(f\"Ticket {self.ticket_id} reserved successfully.\")\n",
    "        else:\n",
    "            print(\"Ticket is already reserved.\")\n",
    "\n",
    "    def cancel_reservation(self):\n",
    "        if self.is_reserved:\n",
    "            self.is_reserved = False\n",
    "            print(f\"Reservation for Ticket {self.ticket_id} canceled.\")\n",
    "        else:\n",
    "            print(\"Ticket is not currently reserved.\")\n",
    "\n",
    "    def display_ticket_info(self):\n",
    "        print(f\"Ticket Information:\")\n",
    "        print(f\"Ticket ID: {self.ticket_id}\")\n",
    "        print(f\"Event Name: {self.event_name}\")\n",
    "        print(f\"Event Date: {self.event_date}\")\n",
    "        print(f\"Venue: {self.venue}\")\n",
    "        print(f\"Seat Number: {self.seat_number}\")\n",
    "        print(f\"Price: ${self.price}\")\n",
    "        print(f\"Reservation Status: {'Reserved' if self.is_reserved else 'Not Reserved'}\")\n",
    "\n",
    "\n",
    "# Example usage:\n",
    "ticket1 = Ticket(101, \"Concert\", \"2023-12-01\", \"City Arena\", \"A101\", 50.00)\n",
    "\n",
    "ticket1.reserve_ticket()\n",
    "ticket1.display_ticket_info()\n",
    "\n",
    "ticket1.cancel_reservation()\n",
    "ticket1.display_ticket_info()\n"
   ]
  },
  {
   "cell_type": "code",
   "execution_count": null,
   "id": "f08b9c97-26cd-46f0-9342-45f40ec433c2",
   "metadata": {},
   "outputs": [],
   "source": [
    "Q9) You are creating a shopping cart for an e-commerce website. Using OOP to model\n",
    "the \"ShoppingCart\" functionality the class should contain following attributes and\n",
    "methods:\n",
    "a. items: Represents the list of items in the shopping cart.\n",
    "The class also includes the following methods:\n",
    "\n",
    "a. add_item(self, item): Adds an item to the shopping cart by appending it to the\n",
    "list of items.\n",
    "b. remove_item(self, item): Removes an item from the shopping cart if it exists in\n",
    "the list.\n",
    "c. view_cart(self): Displays the items currently present in the shopping cart.\n",
    "d. clear_cart(self): Clears all items from the shopping cart by reassigning an\n",
    "empty list to the items attribute."
   ]
  },
  {
   "cell_type": "code",
   "execution_count": 3,
   "id": "b62bd98d-5d69-4105-aa6e-b53b80869d59",
   "metadata": {},
   "outputs": [
    {
     "name": "stdout",
     "output_type": "stream",
     "text": [
      "Item 'Product 1' added to the shopping cart.\n",
      "Item 'Product 2' added to the shopping cart.\n",
      "Items in the shopping cart:\n",
      "- Product 1\n",
      "- Product 2\n",
      "Item 'Product 1' removed from the shopping cart.\n",
      "Items in the shopping cart:\n",
      "- Product 2\n",
      "Shopping cart cleared.\n",
      "The shopping cart is empty.\n"
     ]
    }
   ],
   "source": [
    "class ShoppingCart:\n",
    "    def __init__(self):\n",
    "        self.items = [] \n",
    "\n",
    "    def add_item(self, item):\n",
    "        self.items.append(item)\n",
    "        print(f\"Item '{item}' added to the shopping cart.\")\n",
    "\n",
    "    def remove_item(self, item):\n",
    "        if item in self.items:\n",
    "            self.items.remove(item)\n",
    "            print(f\"Item '{item}' removed from the shopping cart.\")\n",
    "        else:\n",
    "            print(f\"Item '{item}' not found in the shopping cart.\")\n",
    "\n",
    "    def view_cart(self):\n",
    "        if not self.items:\n",
    "            print(\"The shopping cart is empty.\")\n",
    "        else:\n",
    "            print(\"Items in the shopping cart:\")\n",
    "            for item in self.items:\n",
    "                print(f\"- {item}\")\n",
    "\n",
    "    def clear_cart(self):\n",
    "        self.items = []\n",
    "        print(\"Shopping cart cleared.\")\n",
    "\n",
    "shopping_cart = ShoppingCart()\n",
    "\n",
    "shopping_cart.add_item(\"Product 1\")\n",
    "shopping_cart.add_item(\"Product 2\")\n",
    "shopping_cart.view_cart()\n",
    "\n",
    "shopping_cart.remove_item(\"Product 1\")\n",
    "shopping_cart.view_cart()\n",
    "\n",
    "shopping_cart.clear_cart()\n",
    "shopping_cart.view_cart()\n"
   ]
  },
  {
   "cell_type": "code",
   "execution_count": null,
   "id": "9a356591-9c34-44a3-8647-44e72c41eaea",
   "metadata": {},
   "outputs": [],
   "source": [
    "Q10)  Imagine a school management system. You have to design the \"Student\" class using\n",
    "OOP concepts.The “Student” class has the following attributes:\n",
    "a. name: Represents the name of the student.\n",
    "b. age: Represents the age of the student.\n",
    "c. grade: Represents the grade or class of the student.\n",
    "d. student_id: Represents the unique identifier for the student.\n",
    "e. attendance: Represents the attendance record of the student.\n",
    "The class should also include the following methods:\n",
    "a. update_attendance(self, date, status): Updates the attendance record of the\n",
    "student for a given date with the provided status (e.g., present or absent).\n",
    "b. get_attendance(self): Returns the attendance record of the student.\n",
    "c. get_average_attendance(self): Calculates and returns the average\n",
    "attendance percentage of the student based on their attendance record."
   ]
  },
  {
   "cell_type": "code",
   "execution_count": null,
   "id": "aa30cc3d-ed26-4558-9177-27d30d819628",
   "metadata": {},
   "outputs": [],
   "source": [
    "def student:\n",
    "    def __init__"
   ]
  }
 ],
 "metadata": {
  "kernelspec": {
   "display_name": "Python 3 (ipykernel)",
   "language": "python",
   "name": "python3"
  },
  "language_info": {
   "codemirror_mode": {
    "name": "ipython",
    "version": 3
   },
   "file_extension": ".py",
   "mimetype": "text/x-python",
   "name": "python",
   "nbconvert_exporter": "python",
   "pygments_lexer": "ipython3",
   "version": "3.10.6"
  }
 },
 "nbformat": 4,
 "nbformat_minor": 5
}
